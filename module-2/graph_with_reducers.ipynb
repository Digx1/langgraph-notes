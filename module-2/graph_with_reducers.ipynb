{
  "nbformat": 4,
  "nbformat_minor": 0,
  "metadata": {
    "colab": {
      "provenance": [],
      "authorship_tag": "ABX9TyPIpFyAUHwbp7OxxjPkelaR",
      "include_colab_link": true
    },
    "kernelspec": {
      "name": "python3",
      "display_name": "Python 3"
    },
    "language_info": {
      "name": "python"
    }
  },
  "cells": [
    {
      "cell_type": "markdown",
      "metadata": {
        "id": "view-in-github",
        "colab_type": "text"
      },
      "source": [
        "<a href=\"https://colab.research.google.com/github/Digx1/langgraph-notes/blob/main/module-2/graph_with_reducers.ipynb\" target=\"_parent\"><img src=\"https://colab.research.google.com/assets/colab-badge.svg\" alt=\"Open In Colab\"/></a>"
      ]
    },
    {
      "cell_type": "code",
      "execution_count": 2,
      "metadata": {
        "id": "oV8ixQJB15da"
      },
      "outputs": [],
      "source": [
        "%%capture --no-stderr\n",
        "%pip install --quiet -U langchain_core langgraph\n"
      ]
    },
    {
      "cell_type": "code",
      "source": [
        "from langgraph.graph import StateGraph, START, END\n",
        "from typing_extensions import TypedDict\n",
        "from typing import Annotated\n",
        "import operator\n",
        "\n",
        "#Custom reducer function\n",
        "def merge_cart(left: list[str] | None, right: list[str] | None) -> list[str]:\n",
        "    return (left or []) + (right or [])\n",
        "\n",
        "#Define the state schema with an explicit reducer\n",
        "class ShoppingCart(TypedDict):\n",
        "    cart: Annotated[list[str], merge_cart]  # Reducer function specified here\n",
        "\n",
        "#Create the graph\n",
        "builder = StateGraph(ShoppingCart)\n",
        "\n",
        "#Define nodes that modify the same state\n",
        "def add_item_1(state):\n",
        "    return {\"cart\": [\"Laptop\"]}\n",
        "\n",
        "def add_item_2(state):\n",
        "    return {\"cart\": [\"Phone\"]}\n",
        "def add_item_3(state):\n",
        "    return {\"cart\": [\"mobile\"]}\n",
        "\n",
        "#Add nodes\n",
        "builder.add_node(\"add_item_1\", add_item_1)\n",
        "builder.add_node(\"add_item_2\", add_item_2)\n",
        "builder.add_node(\"add_item_3\", add_item_3)\n",
        "\n",
        "#Define branching logic\n",
        "builder.add_edge(START, \"add_item_1\")\n",
        "builder.add_edge(START, \"add_item_2\")\n",
        "builder.add_edge(START, \"add_item_3\")\n",
        "builder.add_edge(\"add_item_1\", END)\n",
        "builder.add_edge(\"add_item_2\", END)\n",
        "\n",
        "#Compile the graph\n",
        "graph = builder.compile()\n",
        "\n",
        "#Run the graph\n",
        "result = graph.invoke({\"cart\": []})\n",
        "print(result)\n"
      ],
      "metadata": {
        "colab": {
          "base_uri": "https://localhost:8080/"
        },
        "id": "_KT-L_Gp3_ca",
        "outputId": "ca08a4c8-cc52-4645-8875-ff40fc4c6479"
      },
      "execution_count": 3,
      "outputs": [
        {
          "output_type": "stream",
          "name": "stdout",
          "text": [
            "{'cart': ['Laptop', 'Phone', 'mobile']}\n"
          ]
        }
      ]
    }
  ]
}