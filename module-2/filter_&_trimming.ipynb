{
  "nbformat": 4,
  "nbformat_minor": 0,
  "metadata": {
    "colab": {
      "provenance": [],
      "authorship_tag": "ABX9TyN8MdOKfurx60Cn1Nh6t4t/",
      "include_colab_link": true
    },
    "kernelspec": {
      "name": "python3",
      "display_name": "Python 3"
    },
    "language_info": {
      "name": "python"
    }
  },
  "cells": [
    {
      "cell_type": "markdown",
      "metadata": {
        "id": "view-in-github",
        "colab_type": "text"
      },
      "source": [
        "<a href=\"https://colab.research.google.com/github/Digx1/langgraph-notes/blob/main/module-2/filter_%26_trimming.ipynb\" target=\"_parent\"><img src=\"https://colab.research.google.com/assets/colab-badge.svg\" alt=\"Open In Colab\"/></a>"
      ]
    },
    {
      "cell_type": "code",
      "execution_count": 1,
      "metadata": {
        "id": "U99BMcnwKIZz"
      },
      "outputs": [],
      "source": [
        "%%capture --no-stderr\n",
        "%pip install --quiet -U langchain_core langgraph langchain_openai"
      ]
    },
    {
      "cell_type": "code",
      "source": [
        "import os, getpass\n",
        "\n",
        "def _set_env(var: str):\n",
        "    if not os.environ.get(var):\n",
        "        os.environ[var] = getpass.getpass(f\"{var}: \")\n",
        "\n",
        "_set_env(\"OPENAI_API_KEY\")"
      ],
      "metadata": {
        "colab": {
          "base_uri": "https://localhost:8080/"
        },
        "id": "4uPh1ZsqKaHC",
        "outputId": "5f6a725a-0454-48e3-c184-fc2adc5d813f"
      },
      "execution_count": 2,
      "outputs": [
        {
          "name": "stdout",
          "output_type": "stream",
          "text": [
            "OPENAI_API_KEY: ··········\n"
          ]
        }
      ]
    },
    {
      "cell_type": "code",
      "source": [
        "_set_env(\"LANGCHAIN_API_KEY\")\n",
        "os.environ[\"LANGCHAIN_TRACING_V2\"] = \"true\"\n",
        "os.environ[\"LANGCHAIN_PROJECT\"] = \"langchain-academy\""
      ],
      "metadata": {
        "colab": {
          "base_uri": "https://localhost:8080/"
        },
        "id": "kSRe0W-NLQWs",
        "outputId": "424e1bef-c711-4bd5-967c-8565e2a1b4e0"
      },
      "execution_count": 3,
      "outputs": [
        {
          "name": "stdout",
          "output_type": "stream",
          "text": [
            "LANGCHAIN_API_KEY: ··········\n"
          ]
        }
      ]
    },
    {
      "cell_type": "code",
      "source": [
        "from pprint import pprint\n",
        "from langchain_core.messages import AIMessage, HumanMessage\n",
        "messages = [AIMessage(f\"So you said you were researching ocean mammals?\", name=\"chatbot\")]\n",
        "messages.append(HumanMessage(f\"Yes, I know about whales. But what others should I learn about?\", name=\"digvijay\"))\n",
        "\n",
        "for m in messages:\n",
        "    m.pretty_print()"
      ],
      "metadata": {
        "colab": {
          "base_uri": "https://localhost:8080/"
        },
        "id": "5bfzooKdLXFw",
        "outputId": "5d69a197-329b-44ef-ff93-8bfd099410fc"
      },
      "execution_count": 4,
      "outputs": [
        {
          "output_type": "stream",
          "name": "stdout",
          "text": [
            "==================================\u001b[1m Ai Message \u001b[0m==================================\n",
            "Name: chatbot\n",
            "\n",
            "So you said you were researching ocean mammals?\n",
            "================================\u001b[1m Human Message \u001b[0m=================================\n",
            "Name: digvijay\n",
            "\n",
            "Yes, I know about whales. But what others should I learn about?\n"
          ]
        }
      ]
    },
    {
      "cell_type": "code",
      "source": [
        "from langchain_openai import ChatOpenAI\n",
        "llm = ChatOpenAI(model=\"gpt-4o\")\n",
        "llm.invoke(messages)"
      ],
      "metadata": {
        "colab": {
          "base_uri": "https://localhost:8080/"
        },
        "id": "jggM7msEMOSE",
        "outputId": "1c935a04-cd01-4661-a509-7275be106034"
      },
      "execution_count": 5,
      "outputs": [
        {
          "output_type": "execute_result",
          "data": {
            "text/plain": [
              "AIMessage(content='In addition to whales, there are several fascinating marine mammals that you might find interesting to study:\\n\\n1. **Dolphins**: Highly intelligent and social creatures, dolphins are known for their playful behavior and strong social bonds within pods.\\n\\n2. **Porpoises**: Similar to dolphins but generally smaller, porpoises are distinguished by their more rounded bodies and less pronounced beaks.\\n\\n3. **Seals**: These semi-aquatic marine mammals are known for their playful and curious nature. There are many species, including the harbor seal and elephant seal.\\n\\n4. **Sea Lions**: Related to seals, sea lions are known for their external ear flaps and their ability to \"walk\" on land using their large flippers.\\n\\n5. **Walruses**: Recognizable by their long tusks and whiskers, walruses are social animals that spend large amounts of time on ice.\\n\\n6. **Manatees and Dugongs**: Sometimes called \"sea cows,\" these gentle, slow-moving mammals graze on aquatic vegetation in warm, shallow waters.\\n\\n7. **Polar Bears**: Although not fully aquatic, polar bears are marine mammals as they spend much of their life on sea ice and depend on the ocean for food.\\n\\n8. **Sea Otters**: Known for their playful behavior and use of tools, sea otters have a crucial role in maintaining the health of kelp forest ecosystems.\\n\\n9. **Narwhals**: Often referred to as the \"unicorns of the sea,\" these Arctic whales are known for the long, spiraled tusks that males (and some females) have.\\n\\n10. **Sperm Whales**: A deep-diving species best known for its large head and prominent role in literature (like \"Moby Dick\").\\n\\nEach of these marine mammals has unique behaviors, adaptations, and conservation concerns, making them interesting and important subjects of study.', additional_kwargs={'refusal': None}, response_metadata={'token_usage': {'completion_tokens': 388, 'prompt_tokens': 43, 'total_tokens': 431, 'completion_tokens_details': {'accepted_prediction_tokens': 0, 'audio_tokens': 0, 'reasoning_tokens': 0, 'rejected_prediction_tokens': 0}, 'prompt_tokens_details': {'audio_tokens': 0, 'cached_tokens': 0}}, 'model_name': 'gpt-4o-2024-08-06', 'system_fingerprint': 'fp_eb9dce56a8', 'finish_reason': 'stop', 'logprobs': None}, id='run-29344110-e559-4555-b4ad-663b85b5ae59-0', usage_metadata={'input_tokens': 43, 'output_tokens': 388, 'total_tokens': 431, 'input_token_details': {'audio': 0, 'cache_read': 0}, 'output_token_details': {'audio': 0, 'reasoning': 0}})"
            ]
          },
          "metadata": {},
          "execution_count": 5
        }
      ]
    },
    {
      "cell_type": "code",
      "source": [
        "from IPython.display import Image, display\n",
        "from langgraph.graph import MessagesState\n",
        "from langgraph.graph import StateGraph, START, END\n",
        "\n",
        "# Node\n",
        "def chat_model_node(state: MessagesState):\n",
        "    return {\"messages\": llm.invoke(state[\"messages\"])}\n",
        "\n",
        "# Build graph\n",
        "builder = StateGraph(MessagesState)\n",
        "builder.add_node(\"chat_bot\", chat_model_node)\n",
        "builder.add_edge(START, \"chat_bot\")\n",
        "builder.add_edge(\"chat_bot\", END)\n",
        "graph = builder.compile()\n",
        "\n",
        "# View\n",
        "display(Image(graph.get_graph().draw_mermaid_png()))"
      ],
      "metadata": {
        "colab": {
          "base_uri": "https://localhost:8080/",
          "height": 251
        },
        "id": "asvggMIMN7NU",
        "outputId": "6c156023-b298-4ff6-ed01-df97aad16b22"
      },
      "execution_count": 9,
      "outputs": [
        {
          "output_type": "display_data",
          "data": {
            "image/png": "[encoded data removed]",
            "text/plain": [
              "<IPython.core.display.Image object>"
            ]
          },
          "metadata": {}
        }
      ]
    },
    {
      "cell_type": "code",
      "source": [
        "output = graph.invoke({'messages': messages})\n",
        "for m in output['messages']:\n",
        "    m.pretty_print()\n",
        ""
      ],
      "metadata": {
        "colab": {
          "base_uri": "https://localhost:8080/"
        },
        "id": "dZNPUHB7OU4H",
        "outputId": "52c5eab4-6f24-4fc0-fe6d-8030ede5ed57"
      },
      "execution_count": 10,
      "outputs": [
        {
          "output_type": "stream",
          "name": "stdout",
          "text": [
            "==================================\u001b[1m Ai Message \u001b[0m==================================\n",
            "Name: chatbot\n",
            "\n",
            "So you said you were researching ocean mammals?\n",
            "================================\u001b[1m Human Message \u001b[0m=================================\n",
            "Name: digvijay\n",
            "\n",
            "Yes, I know about whales. But what others should I learn about?\n",
            "==================================\u001b[1m Ai Message \u001b[0m==================================\n",
            "\n",
            "In addition to whales, there are several fascinating ocean mammals you might want to explore:\n",
            "\n",
            "1. **Dolphins**: Known for their intelligence and playful behavior, dolphins are part of the family Delphinidae. They communicate using a variety of clicks, whistle-like sounds, and other vocalizations.\n",
            "\n",
            "2. **Porpoises**: Similar to dolphins but generally shorter and stouter, porpoises are part of the family Phocoenidae. They have a more triangular dorsal fin compared to the curved fin of dolphins.\n",
            "\n",
            "3. **Seals**: Members of the pinniped group, seals have varying adaptations for life in cold waters. Examples include the harbor seal and the harp seal.\n",
            "\n",
            "4. **Sea Lions**: Also pinnipeds, sea lions are more agile on land than seals. The California sea lion is a well-known example and often seen performing in shows.\n",
            "\n",
            "5. **Walruses**: Known for their long tusks, walruses are social animals found mainly in Arctic regions. They use their tusks to help pull themselves out of the water and onto ice.\n",
            "\n",
            "6. **Manatees and Dugongs**: These gentle sea cows are herbivorous marine mammals. Manatees are found in the Atlantic Ocean, while dugongs are found in the Indian and Pacific Oceans.\n",
            "\n",
            "7. **Otters**: Although not entirely ocean-dwelling, sea otters are found in the North Pacific. They are known for using tools to open shellfish.\n",
            "\n",
            "8. **Narwhals**: Often called the \"unicorns of the sea,\" narwhals are known for their long, spiral tusk, which is an elongated tooth.\n",
            "\n",
            "9. **Orcas (Killer Whales)**: Despite their name, orcas are part of the dolphin family and are known for their sophisticated hunting techniques and strong social structures.\n",
            "\n",
            "10. **Polar Bears**: While primarily land animals, polar bears are excellent swimmers and spend much of their time on sea ice hunting seals.\n",
            "\n",
            "Each of these ocean mammals has unique adaptations and behaviors that make them fascinating subjects of study.\n"
          ]
        }
      ]
    },
    {
      "cell_type": "code",
      "source": [
        "from langchain_core.messages import RemoveMessage\n",
        "\n",
        "# Nodes\n",
        "def filter_messages(state: MessagesState):\n",
        "    # Delete all but the 2 most recent messages\n",
        "    delete_messages = [RemoveMessage(id=m.id) for m in state[\"messages\"][:-2]]\n",
        "    return {\"messages\": delete_messages}\n",
        "\n",
        "def chat_model_node(state: MessagesState):\n",
        "    return {\"messages\": [llm.invoke(state[\"messages\"])]}\n",
        "\n",
        "# Build graph\n",
        "builder = StateGraph(MessagesState)\n",
        "builder.add_node(\"filter\", filter_messages)\n",
        "builder.add_node(\"chat_model\", chat_model_node)\n",
        "builder.add_edge(START, \"filter\")\n",
        "builder.add_edge(\"filter\", \"chat_model\")\n",
        "builder.add_edge(\"chat_model\", END)\n",
        "graph = builder.compile()\n",
        "\n",
        "# View\n",
        "display(Image(graph.get_graph().draw_mermaid_png()))"
      ],
      "metadata": {
        "colab": {
          "base_uri": "https://localhost:8080/",
          "height": 350
        },
        "id": "Apnksb5ROnhi",
        "outputId": "07600d0f-7faa-41b6-8ac8-9826dab8c1a1"
      },
      "execution_count": 23,
      "outputs": [
        {
          "output_type": "display_data",
          "data": {
            "image/png": "[encoded data removed]",
            "text/plain": [
              "<IPython.core.display.Image object>"
            ]
          },
          "metadata": {}
        }
      ]
    },
    {
      "cell_type": "code",
      "source": [
        "# Message list with a preamble\n",
        "messages = [AIMessage(\"Hi.\", name=\"chat_bot\", id=\"1\")]\n",
        "messages.append(HumanMessage(\"Hi.\", name=\"digvijay\", id=\"2\"))\n",
        "messages.append(AIMessage(\"So you said you were researching ocean mammals?\", name=\"chat_bot\", id=\"3\"))\n",
        "messages.append(HumanMessage(\"Yes, I know about whales. But what others should I learn about?\", name=\"digvijay\", id=\"4\"))\n",
        "\n",
        "# Invoke\n",
        "output = graph.invoke({'messages': messages})\n",
        "for m in output['messages']:\n",
        "    m.pretty_print()"
      ],
      "metadata": {
        "colab": {
          "base_uri": "https://localhost:8080/"
        },
        "id": "v71dwh9vPDlN",
        "outputId": "7a294419-c5b9-4705-f66f-99c97ef18b4e"
      },
      "execution_count": 24,
      "outputs": [
        {
          "output_type": "stream",
          "name": "stdout",
          "text": [
            "==================================\u001b[1m Ai Message \u001b[0m==================================\n",
            "Name: chat_bot\n",
            "\n",
            "So you said you were researching ocean mammals?\n",
            "================================\u001b[1m Human Message \u001b[0m=================================\n",
            "Name: digvijay\n",
            "\n",
            "Yes, I know about whales. But what others should I learn about?\n",
            "==================================\u001b[1m Ai Message \u001b[0m==================================\n",
            "\n",
            "In addition to whales, there are several fascinating ocean mammals you might want to explore:\n",
            "\n",
            "1. **Dolphins**: Known for their intelligence and social behavior, dolphins are part of the Cetacea order, like whales. Common species include bottlenose dolphins and orcas (killer whales, which are actually dolphins).\n",
            "\n",
            "2. **Porpoises**: Similar to dolphins, porpoises are smaller and have different dental structures. The harbor porpoise is a well-known species.\n",
            "\n",
            "3. **Seals**: These pinnipeds are divided into two families: earless seals (true seals) and eared seals (which include sea lions and fur seals). Species like the harbor seal and the California sea lion are well-studied.\n",
            "\n",
            "4. **Sea Lions**: Part of the eared seals, they are known for their external ear flaps and ability to walk on land using their flippers.\n",
            "\n",
            "5. **Walruses**: Distinguished by their long tusks and whiskers, walruses are large pinnipeds that inhabit Arctic regions.\n",
            "\n",
            "6. **Manatees and Dugongs**: Often referred to as \"sea cows,\" these gentle herbivores graze on underwater vegetation in warm coastal waters and rivers.\n",
            "\n",
            "7. **Otters**: While typically found in freshwater, the sea otter is a marine mammal known for its role in kelp forest ecosystems and its distinctive use of tools to open shellfish.\n",
            "\n",
            "8. **Polar Bears**: Though not fully aquatic, these bears are considered marine mammals due to their reliance on the ocean for food and habitat in the Arctic region.\n",
            "\n",
            "Studying these animals can provide insights into marine ecosystems, conservation efforts, and the unique adaptations required for life in aquatic environments.\n"
          ]
        }
      ]
    },
    {
      "cell_type": "code",
      "source": [
        "# Node\n",
        "def chat_model_node(state: MessagesState):\n",
        "    return {\"messages\": [llm.invoke(state[\"messages\"][-1:])]}\n",
        "\n",
        "# Build graph\n",
        "builder = StateGraph(MessagesState)\n",
        "builder.add_node(\"chat_model\", chat_model_node)\n",
        "builder.add_edge(START, \"chat_model\")\n",
        "builder.add_edge(\"chat_model\", END)\n",
        "graph = builder.compile()\n",
        "\n",
        "# View\n",
        "display(Image(graph.get_graph().draw_mermaid_png()))"
      ],
      "metadata": {
        "colab": {
          "base_uri": "https://localhost:8080/",
          "height": 251
        },
        "id": "ZEKtGO0GRRjT",
        "outputId": "725e2de7-ed70-4a68-a8a5-d49f05839427"
      },
      "execution_count": 25,
      "outputs": [
        {
          "output_type": "display_data",
          "data": {
            "image/png": "[encoded data removed]",
            "text/plain": [
              "<IPython.core.display.Image object>"
            ]
          },
          "metadata": {}
        }
      ]
    },
    {
      "cell_type": "code",
      "source": [
        "messages.append(output['messages'][-1])\n",
        "messages.append(HumanMessage(f\"okey,thak you.\", name=\"digvijay\"))"
      ],
      "metadata": {
        "id": "MxsfZB_6Rp4n"
      },
      "execution_count": 30,
      "outputs": []
    },
    {
      "cell_type": "code",
      "source": [
        "for m in messages:\n",
        "    m.pretty_print()"
      ],
      "metadata": {
        "colab": {
          "base_uri": "https://localhost:8080/"
        },
        "id": "1EzjThsySiHd",
        "outputId": "61623e58-314a-4eb6-c161-a74b6ac5729c"
      },
      "execution_count": 31,
      "outputs": [
        {
          "output_type": "stream",
          "name": "stdout",
          "text": [
            "==================================\u001b[1m Ai Message \u001b[0m==================================\n",
            "Name: chat_bot\n",
            "\n",
            "Hi.\n",
            "================================\u001b[1m Human Message \u001b[0m=================================\n",
            "Name: digvijay\n",
            "\n",
            "Hi.\n",
            "==================================\u001b[1m Ai Message \u001b[0m==================================\n",
            "Name: chat_bot\n",
            "\n",
            "So you said you were researching ocean mammals?\n",
            "================================\u001b[1m Human Message \u001b[0m=================================\n",
            "Name: digvijay\n",
            "\n",
            "Yes, I know about whales. But what others should I learn about?\n",
            "==================================\u001b[1m Ai Message \u001b[0m==================================\n",
            "\n",
            "In addition to whales, there are several fascinating ocean mammals you might want to explore:\n",
            "\n",
            "1. **Dolphins**: Known for their intelligence and social behavior, dolphins are part of the Cetacea order, like whales. Common species include bottlenose dolphins and orcas (killer whales, which are actually dolphins).\n",
            "\n",
            "2. **Porpoises**: Similar to dolphins, porpoises are smaller and have different dental structures. The harbor porpoise is a well-known species.\n",
            "\n",
            "3. **Seals**: These pinnipeds are divided into two families: earless seals (true seals) and eared seals (which include sea lions and fur seals). Species like the harbor seal and the California sea lion are well-studied.\n",
            "\n",
            "4. **Sea Lions**: Part of the eared seals, they are known for their external ear flaps and ability to walk on land using their flippers.\n",
            "\n",
            "5. **Walruses**: Distinguished by their long tusks and whiskers, walruses are large pinnipeds that inhabit Arctic regions.\n",
            "\n",
            "6. **Manatees and Dugongs**: Often referred to as \"sea cows,\" these gentle herbivores graze on underwater vegetation in warm coastal waters and rivers.\n",
            "\n",
            "7. **Otters**: While typically found in freshwater, the sea otter is a marine mammal known for its role in kelp forest ecosystems and its distinctive use of tools to open shellfish.\n",
            "\n",
            "8. **Polar Bears**: Though not fully aquatic, these bears are considered marine mammals due to their reliance on the ocean for food and habitat in the Arctic region.\n",
            "\n",
            "Studying these animals can provide insights into marine ecosystems, conservation efforts, and the unique adaptations required for life in aquatic environments.\n",
            "================================\u001b[1m Human Message \u001b[0m=================================\n",
            "Name: Lance\n",
            "\n",
            "Tell me more about Narwhals!\n",
            "==================================\u001b[1m Ai Message \u001b[0m==================================\n",
            "\n",
            "In addition to whales, there are several fascinating ocean mammals you might want to explore:\n",
            "\n",
            "1. **Dolphins**: Known for their intelligence and social behavior, dolphins are part of the Cetacea order, like whales. Common species include bottlenose dolphins and orcas (killer whales, which are actually dolphins).\n",
            "\n",
            "2. **Porpoises**: Similar to dolphins, porpoises are smaller and have different dental structures. The harbor porpoise is a well-known species.\n",
            "\n",
            "3. **Seals**: These pinnipeds are divided into two families: earless seals (true seals) and eared seals (which include sea lions and fur seals). Species like the harbor seal and the California sea lion are well-studied.\n",
            "\n",
            "4. **Sea Lions**: Part of the eared seals, they are known for their external ear flaps and ability to walk on land using their flippers.\n",
            "\n",
            "5. **Walruses**: Distinguished by their long tusks and whiskers, walruses are large pinnipeds that inhabit Arctic regions.\n",
            "\n",
            "6. **Manatees and Dugongs**: Often referred to as \"sea cows,\" these gentle herbivores graze on underwater vegetation in warm coastal waters and rivers.\n",
            "\n",
            "7. **Otters**: While typically found in freshwater, the sea otter is a marine mammal known for its role in kelp forest ecosystems and its distinctive use of tools to open shellfish.\n",
            "\n",
            "8. **Polar Bears**: Though not fully aquatic, these bears are considered marine mammals due to their reliance on the ocean for food and habitat in the Arctic region.\n",
            "\n",
            "Studying these animals can provide insights into marine ecosystems, conservation efforts, and the unique adaptations required for life in aquatic environments.\n",
            "================================\u001b[1m Human Message \u001b[0m=================================\n",
            "Name: digvijay\n",
            "\n",
            "Tell me more about Narwhals!\n",
            "==================================\u001b[1m Ai Message \u001b[0m==================================\n",
            "\n",
            "Narwhals are fascinating marine mammals that belong to the Monodontidae family, which also includes belugas. Here are some interesting aspects about narwhals:\n",
            "\n",
            "1. **Physical Characteristics**: Narwhals are well-known for their most distinctive feature—the long, spiral tusk that protrudes from the head of the males. This tusk is actually an elongated canine tooth, which can grow up to 10 feet (3 meters) long. Females usually have much shorter tusks or none at all.\n",
            "\n",
            "2. **Habitat**: Narwhals primarily inhabit the Arctic waters around Greenland, Canada, and Russia. They are highly adapted to life in these frigid environments and spend much of their time in deep, icy waters.\n",
            "\n",
            "3. **Size and Appearance**: Besides the tusk, narwhals have a mottled black and white skin pattern. They are medium-sized whales, with adults typically ranging in length from 13 to 18 feet (4 to 5.5 meters), not including the tusk.\n",
            "\n",
            "4. **Diet**: Narwhals primarily feed on fish, squid, and shrimp. Their diet often includes species found deep underwater, such as Greenland halibut and Arctic cod, showing their ability to dive to great depths—up to 1,500 meters (about 4,900 feet).\n",
            "\n",
            "5. **Social Structure**: They are social animals, often found in groups called pods. These pods can consist of anywhere from a few individuals to several dozen.\n",
            "\n",
            "6. **Behavior and Communication**: Narwhals are known for being deep divers and can stay submerged for up to 25 minutes. They communicate with a range of clicks, whistles, and knocks, which they use for echolocation and social interaction.\n",
            "\n",
            "7. **Conservation**: While not currently classified as endangered, narwhals face several threats, including climate change, which affects ice cover and their habitat; oil and gas development in the Arctic; and hunting by indigenous peoples. Conservation efforts are important to ensure their survival as environmental conditions change.\n",
            "\n",
            "8. **Cultural Significance**: In Inuit culture, narwhals hold significant importance and are often featured in legends and traditions. The narwhal tusk was historically traded as a rare and valuable item, often referred to as the \"unicorn horn.\"\n",
            "\n",
            "Overall, narwhals are a unique and integral part of the Arctic marine ecosystem. Their mysterious nature and the challenges they face make them a subject of scientific interest and conservation efforts.\n",
            "================================\u001b[1m Human Message \u001b[0m=================================\n",
            "Name: digvijay\n",
            "\n",
            "okey,thak you.\n"
          ]
        }
      ]
    },
    {
      "cell_type": "code",
      "source": [
        "# Invoke, using message filtering\n",
        "output = graph.invoke({'messages': messages})\n",
        "for m in output['messages']:\n",
        "    m.pretty_print()"
      ],
      "metadata": {
        "colab": {
          "base_uri": "https://localhost:8080/"
        },
        "id": "47ElKfySS7px",
        "outputId": "694c774e-e896-46e9-8bc4-632c3889c675"
      },
      "execution_count": 32,
      "outputs": [
        {
          "output_type": "stream",
          "name": "stdout",
          "text": [
            "==================================\u001b[1m Ai Message \u001b[0m==================================\n",
            "Name: chat_bot\n",
            "\n",
            "Hi.\n",
            "================================\u001b[1m Human Message \u001b[0m=================================\n",
            "Name: digvijay\n",
            "\n",
            "Hi.\n",
            "==================================\u001b[1m Ai Message \u001b[0m==================================\n",
            "Name: chat_bot\n",
            "\n",
            "So you said you were researching ocean mammals?\n",
            "================================\u001b[1m Human Message \u001b[0m=================================\n",
            "Name: digvijay\n",
            "\n",
            "Yes, I know about whales. But what others should I learn about?\n",
            "==================================\u001b[1m Ai Message \u001b[0m==================================\n",
            "\n",
            "In addition to whales, there are several fascinating ocean mammals you might want to explore:\n",
            "\n",
            "1. **Dolphins**: Known for their intelligence and social behavior, dolphins are part of the Cetacea order, like whales. Common species include bottlenose dolphins and orcas (killer whales, which are actually dolphins).\n",
            "\n",
            "2. **Porpoises**: Similar to dolphins, porpoises are smaller and have different dental structures. The harbor porpoise is a well-known species.\n",
            "\n",
            "3. **Seals**: These pinnipeds are divided into two families: earless seals (true seals) and eared seals (which include sea lions and fur seals). Species like the harbor seal and the California sea lion are well-studied.\n",
            "\n",
            "4. **Sea Lions**: Part of the eared seals, they are known for their external ear flaps and ability to walk on land using their flippers.\n",
            "\n",
            "5. **Walruses**: Distinguished by their long tusks and whiskers, walruses are large pinnipeds that inhabit Arctic regions.\n",
            "\n",
            "6. **Manatees and Dugongs**: Often referred to as \"sea cows,\" these gentle herbivores graze on underwater vegetation in warm coastal waters and rivers.\n",
            "\n",
            "7. **Otters**: While typically found in freshwater, the sea otter is a marine mammal known for its role in kelp forest ecosystems and its distinctive use of tools to open shellfish.\n",
            "\n",
            "8. **Polar Bears**: Though not fully aquatic, these bears are considered marine mammals due to their reliance on the ocean for food and habitat in the Arctic region.\n",
            "\n",
            "Studying these animals can provide insights into marine ecosystems, conservation efforts, and the unique adaptations required for life in aquatic environments.\n",
            "================================\u001b[1m Human Message \u001b[0m=================================\n",
            "Name: Lance\n",
            "\n",
            "Tell me more about Narwhals!\n",
            "================================\u001b[1m Human Message \u001b[0m=================================\n",
            "Name: digvijay\n",
            "\n",
            "Tell me more about Narwhals!\n",
            "==================================\u001b[1m Ai Message \u001b[0m==================================\n",
            "\n",
            "Narwhals are fascinating marine mammals that belong to the Monodontidae family, which also includes belugas. Here are some interesting aspects about narwhals:\n",
            "\n",
            "1. **Physical Characteristics**: Narwhals are well-known for their most distinctive feature—the long, spiral tusk that protrudes from the head of the males. This tusk is actually an elongated canine tooth, which can grow up to 10 feet (3 meters) long. Females usually have much shorter tusks or none at all.\n",
            "\n",
            "2. **Habitat**: Narwhals primarily inhabit the Arctic waters around Greenland, Canada, and Russia. They are highly adapted to life in these frigid environments and spend much of their time in deep, icy waters.\n",
            "\n",
            "3. **Size and Appearance**: Besides the tusk, narwhals have a mottled black and white skin pattern. They are medium-sized whales, with adults typically ranging in length from 13 to 18 feet (4 to 5.5 meters), not including the tusk.\n",
            "\n",
            "4. **Diet**: Narwhals primarily feed on fish, squid, and shrimp. Their diet often includes species found deep underwater, such as Greenland halibut and Arctic cod, showing their ability to dive to great depths—up to 1,500 meters (about 4,900 feet).\n",
            "\n",
            "5. **Social Structure**: They are social animals, often found in groups called pods. These pods can consist of anywhere from a few individuals to several dozen.\n",
            "\n",
            "6. **Behavior and Communication**: Narwhals are known for being deep divers and can stay submerged for up to 25 minutes. They communicate with a range of clicks, whistles, and knocks, which they use for echolocation and social interaction.\n",
            "\n",
            "7. **Conservation**: While not currently classified as endangered, narwhals face several threats, including climate change, which affects ice cover and their habitat; oil and gas development in the Arctic; and hunting by indigenous peoples. Conservation efforts are important to ensure their survival as environmental conditions change.\n",
            "\n",
            "8. **Cultural Significance**: In Inuit culture, narwhals hold significant importance and are often featured in legends and traditions. The narwhal tusk was historically traded as a rare and valuable item, often referred to as the \"unicorn horn.\"\n",
            "\n",
            "Overall, narwhals are a unique and integral part of the Arctic marine ecosystem. Their mysterious nature and the challenges they face make them a subject of scientific interest and conservation efforts.\n",
            "================================\u001b[1m Human Message \u001b[0m=================================\n",
            "Name: digvijay\n",
            "\n",
            "okey,thak you.\n",
            "==================================\u001b[1m Ai Message \u001b[0m==================================\n",
            "\n",
            "You're welcome! If you have any questions or need further assistance, feel free to ask.\n"
          ]
        }
      ]
    }
  ]
}