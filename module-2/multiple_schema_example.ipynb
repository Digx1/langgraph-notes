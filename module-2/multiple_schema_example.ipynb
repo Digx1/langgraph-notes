{
  "nbformat": 4,
  "nbformat_minor": 0,
  "metadata": {
    "colab": {
      "provenance": [],
      "authorship_tag": "ABX9TyNwJBLeciJRzofBbgXO4rIT",
      "include_colab_link": true
    },
    "kernelspec": {
      "name": "python3",
      "display_name": "Python 3"
    },
    "language_info": {
      "name": "python"
    }
  },
  "cells": [
    {
      "cell_type": "markdown",
      "metadata": {
        "id": "view-in-github",
        "colab_type": "text"
      },
      "source": [
        "<a href=\"https://colab.research.google.com/github/Digx1/langgraph-notes/blob/main/module-2/multiple_schema_example.ipynb\" target=\"_parent\"><img src=\"https://colab.research.google.com/assets/colab-badge.svg\" alt=\"Open In Colab\"/></a>"
      ]
    },
    {
      "cell_type": "code",
      "source": [
        "%%capture --no-stderr\n",
        "%pip install --quiet -U langgraph"
      ],
      "metadata": {
        "id": "2L69T_N5Voyr"
      },
      "execution_count": 3,
      "outputs": []
    },
    {
      "cell_type": "code",
      "execution_count": 6,
      "metadata": {
        "id": "eflqAgTAVHtH"
      },
      "outputs": [],
      "source": [
        "from typing_extensions import TypedDict\n",
        "from langgraph.graph import StateGraph, START, END\n",
        "\n",
        "#Input Schema\n",
        "class InputState(TypedDict):\n",
        "    genre: str\n",
        "\n",
        "#Internal Schema (\n",
        "class InternalState(TypedDict):\n",
        "    genre: str\n",
        "    recommendations: list[str]\n",
        "    scores: dict[str, float]\n",
        "\n",
        "#Output Schema\n",
        "class OutputState(TypedDict):\n",
        "    top_movies: list[str]\n",
        "\n"
      ]
    },
    {
      "cell_type": "code",
      "source": [
        "# Node 1: Get movie recommendations based on genre\n",
        "def get_recommendations(state: InputState) -> InternalState:\n",
        "    print(\" Fetching movie recommendations for:\", state['genre'])\n",
        "\n",
        "    #  database of movie\n",
        "    movie_db = {\n",
        "        \"action\": [\"Mad Max: Fury Road\", \"John Wick\", \"Gladiator\"],\n",
        "        \"romance\": [\"La La Land\", \"Pride & Prejudice\", \"Before Sunrise\"],\n",
        "        \"sci-fi\": [\"Interstellar\", \"The Matrix\", \"Blade Runner 2049\"]\n",
        "    }\n",
        "\n",
        "    return {\n",
        "        \"genre\": state[\"genre\"],\n",
        "        \"recommendations\": movie_db.get(state[\"genre\"], []),\n",
        "        \"scores\": {}  # Scores will be filled in the next node\n",
        "    }"
      ],
      "metadata": {
        "id": "tWfDRuWcVWW9"
      },
      "execution_count": 7,
      "outputs": []
    },
    {
      "cell_type": "code",
      "source": [
        "# Node 2: Perform sentiment analysis (rate the movies)\n",
        "def analyze_movies(state: InternalState) -> InternalState:\n",
        "    print(\" Analyzing movie ratings...\")\n",
        "\n",
        "    # Simulated sentiment analysis (higher rating for demonstration)\n",
        "    scores = {movie: len(movie) % 5 + 7 for movie in state[\"recommendations\"]}\n",
        "\n",
        "    return {\n",
        "        \"genre\": state[\"genre\"],\n",
        "        \"recommendations\": state[\"recommendations\"],\n",
        "        \"scores\": scores\n",
        "    }\n"
      ],
      "metadata": {
        "id": "oUXQY96BWEJp"
      },
      "execution_count": 8,
      "outputs": []
    },
    {
      "cell_type": "code",
      "source": [
        "# Node 3: Filter top-rated movies and return only them\n",
        "def get_top_movies(state: InternalState) -> OutputState:\n",
        "    print(\" Selecting top-rated movies...\")\n",
        "\n",
        "    # Select movies with score >= 8\n",
        "    top_movies = [movie for movie, score in state[\"scores\"].items() if score >= 8]\n",
        "\n",
        "    return {\"top_movies\": top_movies}\n"
      ],
      "metadata": {
        "id": "zhwpzvIfWGio"
      },
      "execution_count": 9,
      "outputs": []
    },
    {
      "cell_type": "code",
      "source": [
        "# Build the Graph\n",
        "graph_builder = StateGraph(InternalState)\n"
      ],
      "metadata": {
        "id": "9Yeawc_7WKDw"
      },
      "execution_count": 10,
      "outputs": []
    },
    {
      "cell_type": "code",
      "source": [
        "# Add Nodes\n",
        "graph_builder.add_node(\"get_recommendations\", get_recommendations)\n",
        "graph_builder.add_node(\"analyze_movies\", analyze_movies)\n",
        "graph_builder.add_node(\"get_top_movies\", get_top_movies)\n"
      ],
      "metadata": {
        "colab": {
          "base_uri": "https://localhost:8080/"
        },
        "id": "hkckiK9GWYfJ",
        "outputId": "a0ff3fee-8a3c-497c-dfa7-eb1b81f22bac"
      },
      "execution_count": 11,
      "outputs": [
        {
          "output_type": "execute_result",
          "data": {
            "text/plain": [
              "<langgraph.graph.state.StateGraph at 0x7ab40a4d11d0>"
            ]
          },
          "metadata": {},
          "execution_count": 11
        }
      ]
    },
    {
      "cell_type": "code",
      "source": [
        "# Define Edges\n",
        "graph_builder.add_edge(START, \"get_recommendations\")\n",
        "graph_builder.add_edge(\"get_recommendations\", \"analyze_movies\")\n",
        "graph_builder.add_edge(\"analyze_movies\", \"get_top_movies\")\n",
        "graph_builder.add_edge(\"get_top_movies\", END)"
      ],
      "metadata": {
        "colab": {
          "base_uri": "https://localhost:8080/"
        },
        "id": "6RBf4fEtWiNN",
        "outputId": "e273cb77-d51b-4c13-e552-3bbee6606f75"
      },
      "execution_count": 12,
      "outputs": [
        {
          "output_type": "execute_result",
          "data": {
            "text/plain": [
              "<langgraph.graph.state.StateGraph at 0x7ab40a4d11d0>"
            ]
          },
          "metadata": {},
          "execution_count": 12
        }
      ]
    },
    {
      "cell_type": "code",
      "source": [
        "#Compile the Graph\n",
        "graph = graph_builder.compile()"
      ],
      "metadata": {
        "id": "z2AOXj7KWgW-"
      },
      "execution_count": 13,
      "outputs": []
    },
    {
      "cell_type": "code",
      "source": [
        "#Display\n",
        "from IPython.display import Image, display\n",
        "display(Image(graph.get_graph().draw_mermaid_png()))"
      ],
      "metadata": {
        "colab": {
          "base_uri": "https://localhost:8080/",
          "height": 449
        },
        "id": "2nsiHXazZmHf",
        "outputId": "d86a7f98-fe6d-49b3-bb46-2f458c93fc41"
      },
      "execution_count": 14,
      "outputs": [
        {
          "output_type": "display_data",
          "data": {
            "image/png": "[encoded data removed]",
            "text/plain": [
              "<IPython.core.display.Image object>"
            ]
          },
          "metadata": {}
        }
      ]
    },
    {
      "cell_type": "code",
      "source": [
        "# Invoke the Graph\n",
        "output = graph.invoke({\"genre\": \"sci-fi\"})\n",
        "print(\" Final Movie Recommendations:\", output)"
      ],
      "metadata": {
        "colab": {
          "base_uri": "https://localhost:8080/"
        },
        "id": "YEKVqO0nWru4",
        "outputId": "2882f9b0-460f-471e-f0a1-a08dc28f97c3"
      },
      "execution_count": 15,
      "outputs": [
        {
          "output_type": "stream",
          "name": "stdout",
          "text": [
            " Fetching movie recommendations for: sci-fi\n",
            " Analyzing movie ratings...\n",
            " Selecting top-rated movies...\n",
            " Final Movie Recommendations: {'genre': 'sci-fi', 'recommendations': ['Interstellar', 'The Matrix', 'Blade Runner 2049'], 'scores': {'Interstellar': 9, 'The Matrix': 7, 'Blade Runner 2049': 9}}\n"
          ]
        }
      ]
    }
  ]
}