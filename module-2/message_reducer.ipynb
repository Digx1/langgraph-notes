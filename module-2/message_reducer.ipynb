{
  "nbformat": 4,
  "nbformat_minor": 0,
  "metadata": {
    "colab": {
      "provenance": [],
      "authorship_tag": "ABX9TyOjyt16mFa1o1Ipc7mEENzu",
      "include_colab_link": true
    },
    "kernelspec": {
      "name": "python3",
      "display_name": "Python 3"
    },
    "language_info": {
      "name": "python"
    }
  },
  "cells": [
    {
      "cell_type": "markdown",
      "metadata": {
        "id": "view-in-github",
        "colab_type": "text"
      },
      "source": [
        "<a href=\"https://colab.research.google.com/github/Digx1/langgraph-notes/blob/main/module-2/message_reducer.ipynb\" target=\"_parent\"><img src=\"https://colab.research.google.com/assets/colab-badge.svg\" alt=\"Open In Colab\"/></a>"
      ]
    },
    {
      "cell_type": "code",
      "source": [
        "%%capture --no-stderr\n",
        "%pip install --quiet -U langchain_core langgraph"
      ],
      "metadata": {
        "id": "WXA8MLLgCFGX"
      },
      "execution_count": null,
      "outputs": []
    },
    {
      "cell_type": "code",
      "execution_count": null,
      "metadata": {
        "colab": {
          "base_uri": "https://localhost:8080/"
        },
        "id": "U2IZgxV-Aqiy",
        "outputId": "b83b65b2-dbb5-4915-b0ad-77cada006344"
      },
      "outputs": [
        {
          "output_type": "stream",
          "name": "stdout",
          "text": [
            "[HumanMessage(content=\"I'm looking for information on marine biology.\", additional_kwargs={}, response_metadata={}, name='Lance')]\n"
          ]
        }
      ],
      "source": [
        "from langchain_core.messages import AIMessage, HumanMessage\n",
        "\n",
        "messages = [AIMessage(content=\"Hello! How can I assist you?\", name=\"Model\")]\n",
        "messages = [HumanMessage(content=\"I'm looking for information on marine biology.\", name=\"Lance\")]\n",
        "\n",
        "print(messages)  # Previous message is lost\n"
      ]
    },
    {
      "cell_type": "code",
      "source": [
        "from langgraph.graph.message import add_messages\n",
        "from langchain_core.messages import AIMessage, HumanMessage\n",
        "\n",
        "# Initial state\n",
        "messages = [AIMessage(content=\"Hello! How can I assist you?\", name=\"Model\")]\n",
        "\n",
        "# User asks a question\n",
        "new_message = HumanMessage(content=\"I'm looking for information on marine biology.\", name=\"Lance\")\n",
        "\n",
        "# Append new message\n",
        "updated_messages = add_messages(messages, new_message)\n",
        "\n",
        "print(updated_messages)\n"
      ],
      "metadata": {
        "colab": {
          "base_uri": "https://localhost:8080/"
        },
        "id": "q1B1X4E0BnKb",
        "outputId": "c55b069e-d526-4181-c573-7e6cc334606d"
      },
      "execution_count": null,
      "outputs": [
        {
          "output_type": "stream",
          "name": "stdout",
          "text": [
            "[AIMessage(content='Hello! How can I assist you?', additional_kwargs={}, response_metadata={}, name='Model', id='b4856514-639a-4c57-ae78-196dd284d8c1'), HumanMessage(content=\"I'm looking for information on marine biology.\", additional_kwargs={}, response_metadata={}, name='Lance', id='bb743f82-dc03-4ccf-91d7-dff738267424')]\n"
          ]
        }
      ]
    },
    {
      "cell_type": "code",
      "source": [
        "# Initial state with messages\n",
        "messages = [\n",
        "    AIMessage(content=\"Hello! How can I assist you?\", name=\"Bot\", id=\"1\"),\n",
        "    HumanMessage(content=\"I'm looking for marine biology info.\", name=\"User\", id=\"2\")\n",
        "]\n",
        "\n",
        "# New message with the same ID as the previous one (this will replace the old one)\n",
        "new_message = HumanMessage(content=\"I'm looking for whale information.\", name=\"User\", id=\"2\")\n",
        "\n",
        "# Applying the reducer\n",
        "updated_messages = add_messages(messages, new_message)\n",
        "\n",
        "print(updated_messages)"
      ],
      "metadata": {
        "id": "rxfUzYsZCOmD",
        "colab": {
          "base_uri": "https://localhost:8080/"
        },
        "outputId": "740cd31a-3589-4679-c39d-7fb90eca1d80"
      },
      "execution_count": 6,
      "outputs": [
        {
          "output_type": "stream",
          "name": "stdout",
          "text": [
            "[AIMessage(content='Hello! How can I assist you?', additional_kwargs={}, response_metadata={}, name='Bot', id='1'), HumanMessage(content=\"I'm looking for whale information.\", additional_kwargs={}, response_metadata={}, name='User', id='2')]\n"
          ]
        }
      ]
    }
  ]
}